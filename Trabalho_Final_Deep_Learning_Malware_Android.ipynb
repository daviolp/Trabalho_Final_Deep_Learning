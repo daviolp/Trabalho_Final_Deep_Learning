{
 "cells": [
  {
   "cell_type": "markdown",
   "metadata": {},
   "source": [
    "<center><img src=\"https://logodownload.org/wp-content/uploads/2016/09/ufc-logo-universidade-4.png\" style=\"height: 40%; height:100px; text-align: center;\"> <center>"
   ]
  },
  {
   "cell_type": "markdown",
   "metadata": {},
   "source": [
    "### <center> Residência em Segurança da Informação <center>"
   ]
  },
  {
   "cell_type": "markdown",
   "metadata": {
    "jp-MarkdownHeadingCollapsed": true,
    "tags": []
   },
   "source": [
    "#### <center> Disciplina: Redes Profundas e Meta-heurísticas</center>\n",
    "#### <center> Professor: João Paulo Pordeus</center>\n",
    "\n",
    "### **<center>Equipe:</center>**\n",
    "<center>Davi Oliveira Lopes</center>\n",
    "<center>Lorena da Silva Medeiros</center>\n",
    "<center>Lucelia Lima Souza</center>\n",
    "<center>Nathália Cavalcanti Martins</center>\n"
   ]
  },
  {
   "cell_type": "markdown",
   "metadata": {},
   "source": [
    "##  <font color='red'>Detect Android Malware</font>\n",
    "<p><b>Tarefa: </b> Detecção da presença de malware utilizando como recursos os atributos extraídos de aplicativos Android.</p>"
   ]
  },
  {
   "cell_type": "markdown",
   "metadata": {},
   "source": [
    "##### Dataset do Kaggle: https://www.kaggle.com/datasets/shashwatwork/android-malware-dataset-for-machine-learning"
   ]
  },
  {
   "cell_type": "markdown",
   "metadata": {},
   "source": [
    "![](https://tenor.com/view/red-android-google-gif-13099012.gif)"
   ]
  },
  {
   "cell_type": "markdown",
   "metadata": {},
   "source": [
    "#### ***Importando as Bibliotecas***"
   ]
  },
  {
   "cell_type": "code",
   "execution_count": 2,
   "metadata": {
    "id": "IIra4iV85FzY"
   },
   "outputs": [],
   "source": [
    "import pandas as pd\n",
    "import random\n",
    "import numpy as np\n",
    "from numpy import random\n",
    "import matplotlib.pyplot as plt\n",
    "import tensorflow as tf\n",
    "import keras\n",
    "from sklearn.preprocessing import LabelEncoder\n",
    "from keras.models import Sequential\n",
    "from keras.layers import Dense, Dropout\n",
    "from sklearn.model_selection import train_test_split\n",
    "from sklearn import preprocessing\n",
    "from sklearn.ensemble import RandomForestClassifier\n",
    "from sklearn.neural_network import MLPClassifier\n",
    "from sklearn.neighbors import KNeighborsClassifier\n",
    "from sklearn.linear_model import LogisticRegression\n",
    "from sklearn import svm\n",
    "from sklearn import tree\n",
    "from sklearn.metrics import (\n",
    "    confusion_matrix,\n",
    "    ConfusionMatrixDisplay,\n",
    "    classification_report,\n",
    "    accuracy_score,\n",
    "    precision_score\n",
    ")\n",
    "from keras.callbacks import ModelCheckpoint\n",
    "from keras.models import load_model\n",
    "import seaborn as sns"
   ]
  },
  {
   "cell_type": "code",
   "execution_count": 3,
   "metadata": {},
   "outputs": [],
   "source": [
    "random.seed(10)\n",
    "np.random.seed(10)\n",
    "tf.random.set_seed(10)"
   ]
  },
  {
   "cell_type": "markdown",
   "metadata": {},
   "source": [
    "#### ***Leitura do Dataset e Contagem de Valores Nulos***"
   ]
  },
  {
   "cell_type": "code",
   "execution_count": 4,
   "metadata": {
    "colab": {
     "base_uri": "https://localhost:8080/"
    },
    "id": "oR8FiEiOiiFy",
    "outputId": "8a21d9c5-b75b-47cc-d0f4-51fa0003a34a"
   },
   "outputs": [
    {
     "name": "stdout",
     "output_type": "stream",
     "text": [
      "Total missing values :  0\n"
     ]
    },
    {
     "data": {
      "text/html": [
       "<div>\n",
       "<style scoped>\n",
       "    .dataframe tbody tr th:only-of-type {\n",
       "        vertical-align: middle;\n",
       "    }\n",
       "\n",
       "    .dataframe tbody tr th {\n",
       "        vertical-align: top;\n",
       "    }\n",
       "\n",
       "    .dataframe thead th {\n",
       "        text-align: right;\n",
       "    }\n",
       "</style>\n",
       "<table border=\"1\" class=\"dataframe\">\n",
       "  <thead>\n",
       "    <tr style=\"text-align: right;\">\n",
       "      <th></th>\n",
       "      <th>transact</th>\n",
       "      <th>onServiceConnected</th>\n",
       "      <th>bindService</th>\n",
       "      <th>attachInterface</th>\n",
       "      <th>ServiceConnection</th>\n",
       "      <th>android.os.Binder</th>\n",
       "      <th>SEND_SMS</th>\n",
       "      <th>Ljava.lang.Class.getCanonicalName</th>\n",
       "      <th>Ljava.lang.Class.getMethods</th>\n",
       "      <th>Ljava.lang.Class.cast</th>\n",
       "      <th>...</th>\n",
       "      <th>READ_CONTACTS</th>\n",
       "      <th>DEVICE_POWER</th>\n",
       "      <th>HARDWARE_TEST</th>\n",
       "      <th>ACCESS_WIFI_STATE</th>\n",
       "      <th>WRITE_EXTERNAL_STORAGE</th>\n",
       "      <th>ACCESS_FINE_LOCATION</th>\n",
       "      <th>SET_WALLPAPER_HINTS</th>\n",
       "      <th>SET_PREFERRED_APPLICATIONS</th>\n",
       "      <th>WRITE_SECURE_SETTINGS</th>\n",
       "      <th>class</th>\n",
       "    </tr>\n",
       "  </thead>\n",
       "  <tbody>\n",
       "    <tr>\n",
       "      <th>0</th>\n",
       "      <td>0</td>\n",
       "      <td>0</td>\n",
       "      <td>0</td>\n",
       "      <td>0</td>\n",
       "      <td>0</td>\n",
       "      <td>0</td>\n",
       "      <td>1</td>\n",
       "      <td>0</td>\n",
       "      <td>0</td>\n",
       "      <td>0</td>\n",
       "      <td>...</td>\n",
       "      <td>0</td>\n",
       "      <td>0</td>\n",
       "      <td>0</td>\n",
       "      <td>0</td>\n",
       "      <td>1</td>\n",
       "      <td>0</td>\n",
       "      <td>0</td>\n",
       "      <td>0</td>\n",
       "      <td>0</td>\n",
       "      <td>S</td>\n",
       "    </tr>\n",
       "    <tr>\n",
       "      <th>1</th>\n",
       "      <td>0</td>\n",
       "      <td>0</td>\n",
       "      <td>0</td>\n",
       "      <td>0</td>\n",
       "      <td>0</td>\n",
       "      <td>0</td>\n",
       "      <td>1</td>\n",
       "      <td>0</td>\n",
       "      <td>0</td>\n",
       "      <td>0</td>\n",
       "      <td>...</td>\n",
       "      <td>0</td>\n",
       "      <td>0</td>\n",
       "      <td>0</td>\n",
       "      <td>0</td>\n",
       "      <td>1</td>\n",
       "      <td>0</td>\n",
       "      <td>0</td>\n",
       "      <td>0</td>\n",
       "      <td>0</td>\n",
       "      <td>S</td>\n",
       "    </tr>\n",
       "    <tr>\n",
       "      <th>2</th>\n",
       "      <td>0</td>\n",
       "      <td>0</td>\n",
       "      <td>0</td>\n",
       "      <td>0</td>\n",
       "      <td>0</td>\n",
       "      <td>0</td>\n",
       "      <td>1</td>\n",
       "      <td>0</td>\n",
       "      <td>0</td>\n",
       "      <td>0</td>\n",
       "      <td>...</td>\n",
       "      <td>0</td>\n",
       "      <td>0</td>\n",
       "      <td>0</td>\n",
       "      <td>0</td>\n",
       "      <td>0</td>\n",
       "      <td>0</td>\n",
       "      <td>0</td>\n",
       "      <td>0</td>\n",
       "      <td>0</td>\n",
       "      <td>S</td>\n",
       "    </tr>\n",
       "    <tr>\n",
       "      <th>3</th>\n",
       "      <td>0</td>\n",
       "      <td>0</td>\n",
       "      <td>0</td>\n",
       "      <td>0</td>\n",
       "      <td>0</td>\n",
       "      <td>0</td>\n",
       "      <td>0</td>\n",
       "      <td>0</td>\n",
       "      <td>0</td>\n",
       "      <td>1</td>\n",
       "      <td>...</td>\n",
       "      <td>0</td>\n",
       "      <td>0</td>\n",
       "      <td>0</td>\n",
       "      <td>1</td>\n",
       "      <td>1</td>\n",
       "      <td>1</td>\n",
       "      <td>0</td>\n",
       "      <td>0</td>\n",
       "      <td>0</td>\n",
       "      <td>S</td>\n",
       "    </tr>\n",
       "    <tr>\n",
       "      <th>4</th>\n",
       "      <td>0</td>\n",
       "      <td>0</td>\n",
       "      <td>0</td>\n",
       "      <td>0</td>\n",
       "      <td>0</td>\n",
       "      <td>0</td>\n",
       "      <td>0</td>\n",
       "      <td>0</td>\n",
       "      <td>0</td>\n",
       "      <td>0</td>\n",
       "      <td>...</td>\n",
       "      <td>0</td>\n",
       "      <td>0</td>\n",
       "      <td>0</td>\n",
       "      <td>1</td>\n",
       "      <td>0</td>\n",
       "      <td>1</td>\n",
       "      <td>0</td>\n",
       "      <td>0</td>\n",
       "      <td>0</td>\n",
       "      <td>S</td>\n",
       "    </tr>\n",
       "    <tr>\n",
       "      <th>...</th>\n",
       "      <td>...</td>\n",
       "      <td>...</td>\n",
       "      <td>...</td>\n",
       "      <td>...</td>\n",
       "      <td>...</td>\n",
       "      <td>...</td>\n",
       "      <td>...</td>\n",
       "      <td>...</td>\n",
       "      <td>...</td>\n",
       "      <td>...</td>\n",
       "      <td>...</td>\n",
       "      <td>...</td>\n",
       "      <td>...</td>\n",
       "      <td>...</td>\n",
       "      <td>...</td>\n",
       "      <td>...</td>\n",
       "      <td>...</td>\n",
       "      <td>...</td>\n",
       "      <td>...</td>\n",
       "      <td>...</td>\n",
       "      <td>...</td>\n",
       "    </tr>\n",
       "    <tr>\n",
       "      <th>15031</th>\n",
       "      <td>1</td>\n",
       "      <td>1</td>\n",
       "      <td>1</td>\n",
       "      <td>1</td>\n",
       "      <td>1</td>\n",
       "      <td>1</td>\n",
       "      <td>0</td>\n",
       "      <td>1</td>\n",
       "      <td>1</td>\n",
       "      <td>1</td>\n",
       "      <td>...</td>\n",
       "      <td>0</td>\n",
       "      <td>0</td>\n",
       "      <td>0</td>\n",
       "      <td>1</td>\n",
       "      <td>1</td>\n",
       "      <td>0</td>\n",
       "      <td>0</td>\n",
       "      <td>0</td>\n",
       "      <td>0</td>\n",
       "      <td>B</td>\n",
       "    </tr>\n",
       "    <tr>\n",
       "      <th>15032</th>\n",
       "      <td>0</td>\n",
       "      <td>0</td>\n",
       "      <td>0</td>\n",
       "      <td>0</td>\n",
       "      <td>0</td>\n",
       "      <td>0</td>\n",
       "      <td>0</td>\n",
       "      <td>0</td>\n",
       "      <td>0</td>\n",
       "      <td>1</td>\n",
       "      <td>...</td>\n",
       "      <td>0</td>\n",
       "      <td>0</td>\n",
       "      <td>0</td>\n",
       "      <td>1</td>\n",
       "      <td>1</td>\n",
       "      <td>0</td>\n",
       "      <td>0</td>\n",
       "      <td>0</td>\n",
       "      <td>0</td>\n",
       "      <td>B</td>\n",
       "    </tr>\n",
       "    <tr>\n",
       "      <th>15033</th>\n",
       "      <td>0</td>\n",
       "      <td>0</td>\n",
       "      <td>0</td>\n",
       "      <td>0</td>\n",
       "      <td>0</td>\n",
       "      <td>0</td>\n",
       "      <td>0</td>\n",
       "      <td>0</td>\n",
       "      <td>0</td>\n",
       "      <td>0</td>\n",
       "      <td>...</td>\n",
       "      <td>0</td>\n",
       "      <td>0</td>\n",
       "      <td>0</td>\n",
       "      <td>1</td>\n",
       "      <td>1</td>\n",
       "      <td>0</td>\n",
       "      <td>0</td>\n",
       "      <td>0</td>\n",
       "      <td>0</td>\n",
       "      <td>B</td>\n",
       "    </tr>\n",
       "    <tr>\n",
       "      <th>15034</th>\n",
       "      <td>1</td>\n",
       "      <td>1</td>\n",
       "      <td>1</td>\n",
       "      <td>1</td>\n",
       "      <td>1</td>\n",
       "      <td>1</td>\n",
       "      <td>0</td>\n",
       "      <td>1</td>\n",
       "      <td>1</td>\n",
       "      <td>1</td>\n",
       "      <td>...</td>\n",
       "      <td>1</td>\n",
       "      <td>0</td>\n",
       "      <td>0</td>\n",
       "      <td>1</td>\n",
       "      <td>1</td>\n",
       "      <td>1</td>\n",
       "      <td>0</td>\n",
       "      <td>0</td>\n",
       "      <td>0</td>\n",
       "      <td>B</td>\n",
       "    </tr>\n",
       "    <tr>\n",
       "      <th>15035</th>\n",
       "      <td>1</td>\n",
       "      <td>1</td>\n",
       "      <td>1</td>\n",
       "      <td>1</td>\n",
       "      <td>1</td>\n",
       "      <td>1</td>\n",
       "      <td>0</td>\n",
       "      <td>1</td>\n",
       "      <td>1</td>\n",
       "      <td>1</td>\n",
       "      <td>...</td>\n",
       "      <td>0</td>\n",
       "      <td>0</td>\n",
       "      <td>0</td>\n",
       "      <td>0</td>\n",
       "      <td>1</td>\n",
       "      <td>1</td>\n",
       "      <td>0</td>\n",
       "      <td>0</td>\n",
       "      <td>0</td>\n",
       "      <td>B</td>\n",
       "    </tr>\n",
       "  </tbody>\n",
       "</table>\n",
       "<p>15036 rows × 216 columns</p>\n",
       "</div>"
      ],
      "text/plain": [
       "       transact  onServiceConnected  bindService  attachInterface  \\\n",
       "0             0                   0            0                0   \n",
       "1             0                   0            0                0   \n",
       "2             0                   0            0                0   \n",
       "3             0                   0            0                0   \n",
       "4             0                   0            0                0   \n",
       "...         ...                 ...          ...              ...   \n",
       "15031         1                   1            1                1   \n",
       "15032         0                   0            0                0   \n",
       "15033         0                   0            0                0   \n",
       "15034         1                   1            1                1   \n",
       "15035         1                   1            1                1   \n",
       "\n",
       "       ServiceConnection  android.os.Binder  SEND_SMS  \\\n",
       "0                      0                  0         1   \n",
       "1                      0                  0         1   \n",
       "2                      0                  0         1   \n",
       "3                      0                  0         0   \n",
       "4                      0                  0         0   \n",
       "...                  ...                ...       ...   \n",
       "15031                  1                  1         0   \n",
       "15032                  0                  0         0   \n",
       "15033                  0                  0         0   \n",
       "15034                  1                  1         0   \n",
       "15035                  1                  1         0   \n",
       "\n",
       "       Ljava.lang.Class.getCanonicalName  Ljava.lang.Class.getMethods  \\\n",
       "0                                      0                            0   \n",
       "1                                      0                            0   \n",
       "2                                      0                            0   \n",
       "3                                      0                            0   \n",
       "4                                      0                            0   \n",
       "...                                  ...                          ...   \n",
       "15031                                  1                            1   \n",
       "15032                                  0                            0   \n",
       "15033                                  0                            0   \n",
       "15034                                  1                            1   \n",
       "15035                                  1                            1   \n",
       "\n",
       "       Ljava.lang.Class.cast  ...  READ_CONTACTS  DEVICE_POWER  HARDWARE_TEST  \\\n",
       "0                          0  ...              0             0              0   \n",
       "1                          0  ...              0             0              0   \n",
       "2                          0  ...              0             0              0   \n",
       "3                          1  ...              0             0              0   \n",
       "4                          0  ...              0             0              0   \n",
       "...                      ...  ...            ...           ...            ...   \n",
       "15031                      1  ...              0             0              0   \n",
       "15032                      1  ...              0             0              0   \n",
       "15033                      0  ...              0             0              0   \n",
       "15034                      1  ...              1             0              0   \n",
       "15035                      1  ...              0             0              0   \n",
       "\n",
       "       ACCESS_WIFI_STATE  WRITE_EXTERNAL_STORAGE  ACCESS_FINE_LOCATION  \\\n",
       "0                      0                       1                     0   \n",
       "1                      0                       1                     0   \n",
       "2                      0                       0                     0   \n",
       "3                      1                       1                     1   \n",
       "4                      1                       0                     1   \n",
       "...                  ...                     ...                   ...   \n",
       "15031                  1                       1                     0   \n",
       "15032                  1                       1                     0   \n",
       "15033                  1                       1                     0   \n",
       "15034                  1                       1                     1   \n",
       "15035                  0                       1                     1   \n",
       "\n",
       "       SET_WALLPAPER_HINTS  SET_PREFERRED_APPLICATIONS  WRITE_SECURE_SETTINGS  \\\n",
       "0                        0                           0                      0   \n",
       "1                        0                           0                      0   \n",
       "2                        0                           0                      0   \n",
       "3                        0                           0                      0   \n",
       "4                        0                           0                      0   \n",
       "...                    ...                         ...                    ...   \n",
       "15031                    0                           0                      0   \n",
       "15032                    0                           0                      0   \n",
       "15033                    0                           0                      0   \n",
       "15034                    0                           0                      0   \n",
       "15035                    0                           0                      0   \n",
       "\n",
       "       class  \n",
       "0          S  \n",
       "1          S  \n",
       "2          S  \n",
       "3          S  \n",
       "4          S  \n",
       "...      ...  \n",
       "15031      B  \n",
       "15032      B  \n",
       "15033      B  \n",
       "15034      B  \n",
       "15035      B  \n",
       "\n",
       "[15036 rows x 216 columns]"
      ]
     },
     "execution_count": 4,
     "metadata": {},
     "output_type": "execute_result"
    }
   ],
   "source": [
    "data = pd.read_csv(\"drebin-215-dataset-5560malware-9476-benign.csv\", low_memory=False)\n",
    "print(\"Total missing values : \",sum(list(data.isna().sum())))\n",
    "data"
   ]
  },
  {
   "cell_type": "markdown",
   "metadata": {},
   "source": [
    "# ***Análise do Dataset***"
   ]
  },
  {
   "cell_type": "markdown",
   "metadata": {},
   "source": [
    "#### ***Verificar o shape do dataset***"
   ]
  },
  {
   "cell_type": "code",
   "execution_count": 5,
   "metadata": {},
   "outputs": [
    {
     "data": {
      "text/plain": [
       "(15036, 216)"
      ]
     },
     "execution_count": 5,
     "metadata": {},
     "output_type": "execute_result"
    }
   ],
   "source": [
    "data.shape"
   ]
  },
  {
   "cell_type": "markdown",
   "metadata": {},
   "source": [
    "#### ***Verificar tipo de Coluna***"
   ]
  },
  {
   "cell_type": "code",
   "execution_count": 6,
   "metadata": {},
   "outputs": [
    {
     "name": "stdout",
     "output_type": "stream",
     "text": [
      "<class 'pandas.core.frame.DataFrame'>\n",
      "RangeIndex: 15036 entries, 0 to 15035\n",
      "Columns: 216 entries, transact to class\n",
      "dtypes: int64(214), object(2)\n",
      "memory usage: 24.8+ MB\n"
     ]
    }
   ],
   "source": [
    "data.info()"
   ]
  },
  {
   "cell_type": "markdown",
   "metadata": {},
   "source": [
    "#### ***Verificar colunas com tipo object***"
   ]
  },
  {
   "cell_type": "code",
   "execution_count": 7,
   "metadata": {},
   "outputs": [
    {
     "data": {
      "text/plain": [
       "TelephonyManager.getSimCountryIso    object\n",
       "class                                object\n",
       "dtype: object"
      ]
     },
     "execution_count": 7,
     "metadata": {},
     "output_type": "execute_result"
    }
   ],
   "source": [
    "data.dtypes[data.dtypes=='object']"
   ]
  },
  {
   "cell_type": "markdown",
   "metadata": {},
   "source": [
    "#### ***Transformar a classe de valores categóricos 'B' e 'S para valores inteiros 'O' e '1'.***"
   ]
  },
  {
   "cell_type": "code",
   "execution_count": 8,
   "metadata": {},
   "outputs": [
    {
     "data": {
      "text/plain": [
       "0        1\n",
       "1        1\n",
       "2        1\n",
       "3        1\n",
       "4        1\n",
       "        ..\n",
       "15031    0\n",
       "15032    0\n",
       "15033    0\n",
       "15034    0\n",
       "15035    0\n",
       "Name: class, Length: 15036, dtype: int32"
      ]
     },
     "execution_count": 8,
     "metadata": {},
     "output_type": "execute_result"
    }
   ],
   "source": [
    "label_encoder = preprocessing.LabelEncoder()\n",
    "data_label= label_encoder.fit_transform(data['class'])\n",
    "data['class']=data_label\n",
    "data['class']"
   ]
  },
  {
   "cell_type": "markdown",
   "metadata": {},
   "source": [
    "#### ***Verificar o atributo 'TelephonyManager.getSimCountryIso'***"
   ]
  },
  {
   "cell_type": "code",
   "execution_count": 9,
   "metadata": {},
   "outputs": [
    {
     "data": {
      "text/plain": [
       "0    12508\n",
       "1     2523\n",
       "?        5\n",
       "Name: TelephonyManager.getSimCountryIso, dtype: int64"
      ]
     },
     "execution_count": 9,
     "metadata": {},
     "output_type": "execute_result"
    }
   ],
   "source": [
    "data['TelephonyManager.getSimCountryIso'].value_counts()"
   ]
  },
  {
   "cell_type": "code",
   "execution_count": 10,
   "metadata": {},
   "outputs": [
    {
     "name": "stdout",
     "output_type": "stream",
     "text": [
      "Total valores ausentes :  5\n"
     ]
    }
   ],
   "source": [
    "# Foram removidos somente 5 valores\n",
    "data=data.replace('[?]',np.NaN,regex=True)\n",
    "print(\"Total valores ausentes : \",sum(list(data.isna().sum())))\n",
    "data.dropna(inplace=True)\n",
    "for c in data.columns:\n",
    "    data[c] = pd.to_numeric(data[c])"
   ]
  },
  {
   "cell_type": "code",
   "execution_count": 11,
   "metadata": {},
   "outputs": [
    {
     "name": "stderr",
     "output_type": "stream",
     "text": [
      "C:\\Users\\davit\\anaconda3\\lib\\site-packages\\seaborn\\_decorators.py:36: FutureWarning: Pass the following variable as a keyword arg: x. From version 0.12, the only valid positional argument will be `data`, and passing other arguments without an explicit keyword will result in an error or misinterpretation.\n",
      "  warnings.warn(\n"
     ]
    },
    {
     "data": {
      "text/plain": [
       "Text(0.5, 0, 'Classes')"
      ]
     },
     "execution_count": 11,
     "metadata": {},
     "output_type": "execute_result"
    },
    {
     "data": {
      "image/png": "[encoded data removed]",
      "text/plain": [
       "<Figure size 432x288 with 1 Axes>"
      ]
     },
     "metadata": {
      "needs_background": "light"
     },
     "output_type": "display_data"
    }
   ],
   "source": [
    "data['class'].value_counts()\n",
    "sns.countplot(data['class'])\n",
    "plt.title(\"Class balance\")\n",
    "plt.xlabel(\"Classes\")"
   ]
  },
  {
   "cell_type": "code",
   "execution_count": 12,
   "metadata": {
    "scrolled": true
   },
   "outputs": [
    {
     "data": {
      "text/html": [
       "<div>\n",
       "<style scoped>\n",
       "    .dataframe tbody tr th:only-of-type {\n",
       "        vertical-align: middle;\n",
       "    }\n",
       "\n",
       "    .dataframe tbody tr th {\n",
       "        vertical-align: top;\n",
       "    }\n",
       "\n",
       "    .dataframe thead th {\n",
       "        text-align: right;\n",
       "    }\n",
       "</style>\n",
       "<table border=\"1\" class=\"dataframe\">\n",
       "  <thead>\n",
       "    <tr style=\"text-align: right;\">\n",
       "      <th></th>\n",
       "      <th>transact</th>\n",
       "      <th>onServiceConnected</th>\n",
       "      <th>bindService</th>\n",
       "      <th>attachInterface</th>\n",
       "      <th>ServiceConnection</th>\n",
       "      <th>android.os.Binder</th>\n",
       "      <th>SEND_SMS</th>\n",
       "      <th>Ljava.lang.Class.getCanonicalName</th>\n",
       "      <th>Ljava.lang.Class.getMethods</th>\n",
       "      <th>Ljava.lang.Class.cast</th>\n",
       "      <th>...</th>\n",
       "      <th>READ_CONTACTS</th>\n",
       "      <th>DEVICE_POWER</th>\n",
       "      <th>HARDWARE_TEST</th>\n",
       "      <th>ACCESS_WIFI_STATE</th>\n",
       "      <th>WRITE_EXTERNAL_STORAGE</th>\n",
       "      <th>ACCESS_FINE_LOCATION</th>\n",
       "      <th>SET_WALLPAPER_HINTS</th>\n",
       "      <th>SET_PREFERRED_APPLICATIONS</th>\n",
       "      <th>WRITE_SECURE_SETTINGS</th>\n",
       "      <th>class</th>\n",
       "    </tr>\n",
       "  </thead>\n",
       "  <tbody>\n",
       "    <tr>\n",
       "      <th>count</th>\n",
       "      <td>15031.000000</td>\n",
       "      <td>15031.000000</td>\n",
       "      <td>15031.000000</td>\n",
       "      <td>15031.000000</td>\n",
       "      <td>15031.000000</td>\n",
       "      <td>15031.000000</td>\n",
       "      <td>15031.000000</td>\n",
       "      <td>15031.000000</td>\n",
       "      <td>15031.000000</td>\n",
       "      <td>15031.000000</td>\n",
       "      <td>...</td>\n",
       "      <td>15031.000000</td>\n",
       "      <td>15031.000000</td>\n",
       "      <td>15031.000000</td>\n",
       "      <td>15031.000000</td>\n",
       "      <td>15031.000000</td>\n",
       "      <td>15031.000000</td>\n",
       "      <td>15031.000000</td>\n",
       "      <td>15031.000000</td>\n",
       "      <td>15031.000000</td>\n",
       "      <td>15031.000000</td>\n",
       "    </tr>\n",
       "    <tr>\n",
       "      <th>mean</th>\n",
       "      <td>0.426585</td>\n",
       "      <td>0.446743</td>\n",
       "      <td>0.442818</td>\n",
       "      <td>0.413346</td>\n",
       "      <td>0.445080</td>\n",
       "      <td>0.487060</td>\n",
       "      <td>0.236711</td>\n",
       "      <td>0.330916</td>\n",
       "      <td>0.282483</td>\n",
       "      <td>0.312687</td>\n",
       "      <td>...</td>\n",
       "      <td>0.233384</td>\n",
       "      <td>0.017431</td>\n",
       "      <td>0.004258</td>\n",
       "      <td>0.434569</td>\n",
       "      <td>0.666356</td>\n",
       "      <td>0.290932</td>\n",
       "      <td>0.016034</td>\n",
       "      <td>0.007052</td>\n",
       "      <td>0.044974</td>\n",
       "      <td>0.369570</td>\n",
       "    </tr>\n",
       "    <tr>\n",
       "      <th>std</th>\n",
       "      <td>0.494597</td>\n",
       "      <td>0.497172</td>\n",
       "      <td>0.496736</td>\n",
       "      <td>0.492450</td>\n",
       "      <td>0.496991</td>\n",
       "      <td>0.499849</td>\n",
       "      <td>0.425077</td>\n",
       "      <td>0.470559</td>\n",
       "      <td>0.450222</td>\n",
       "      <td>0.463603</td>\n",
       "      <td>...</td>\n",
       "      <td>0.422999</td>\n",
       "      <td>0.130874</td>\n",
       "      <td>0.065115</td>\n",
       "      <td>0.495717</td>\n",
       "      <td>0.471530</td>\n",
       "      <td>0.454207</td>\n",
       "      <td>0.125609</td>\n",
       "      <td>0.083683</td>\n",
       "      <td>0.207253</td>\n",
       "      <td>0.482704</td>\n",
       "    </tr>\n",
       "    <tr>\n",
       "      <th>min</th>\n",
       "      <td>0.000000</td>\n",
       "      <td>0.000000</td>\n",
       "      <td>0.000000</td>\n",
       "      <td>0.000000</td>\n",
       "      <td>0.000000</td>\n",
       "      <td>0.000000</td>\n",
       "      <td>0.000000</td>\n",
       "      <td>0.000000</td>\n",
       "      <td>0.000000</td>\n",
       "      <td>0.000000</td>\n",
       "      <td>...</td>\n",
       "      <td>0.000000</td>\n",
       "      <td>0.000000</td>\n",
       "      <td>0.000000</td>\n",
       "      <td>0.000000</td>\n",
       "      <td>0.000000</td>\n",
       "      <td>0.000000</td>\n",
       "      <td>0.000000</td>\n",
       "      <td>0.000000</td>\n",
       "      <td>0.000000</td>\n",
       "      <td>0.000000</td>\n",
       "    </tr>\n",
       "    <tr>\n",
       "      <th>25%</th>\n",
       "      <td>0.000000</td>\n",
       "      <td>0.000000</td>\n",
       "      <td>0.000000</td>\n",
       "      <td>0.000000</td>\n",
       "      <td>0.000000</td>\n",
       "      <td>0.000000</td>\n",
       "      <td>0.000000</td>\n",
       "      <td>0.000000</td>\n",
       "      <td>0.000000</td>\n",
       "      <td>0.000000</td>\n",
       "      <td>...</td>\n",
       "      <td>0.000000</td>\n",
       "      <td>0.000000</td>\n",
       "      <td>0.000000</td>\n",
       "      <td>0.000000</td>\n",
       "      <td>0.000000</td>\n",
       "      <td>0.000000</td>\n",
       "      <td>0.000000</td>\n",
       "      <td>0.000000</td>\n",
       "      <td>0.000000</td>\n",
       "      <td>0.000000</td>\n",
       "    </tr>\n",
       "    <tr>\n",
       "      <th>50%</th>\n",
       "      <td>0.000000</td>\n",
       "      <td>0.000000</td>\n",
       "      <td>0.000000</td>\n",
       "      <td>0.000000</td>\n",
       "      <td>0.000000</td>\n",
       "      <td>0.000000</td>\n",
       "      <td>0.000000</td>\n",
       "      <td>0.000000</td>\n",
       "      <td>0.000000</td>\n",
       "      <td>0.000000</td>\n",
       "      <td>...</td>\n",
       "      <td>0.000000</td>\n",
       "      <td>0.000000</td>\n",
       "      <td>0.000000</td>\n",
       "      <td>0.000000</td>\n",
       "      <td>1.000000</td>\n",
       "      <td>0.000000</td>\n",
       "      <td>0.000000</td>\n",
       "      <td>0.000000</td>\n",
       "      <td>0.000000</td>\n",
       "      <td>0.000000</td>\n",
       "    </tr>\n",
       "    <tr>\n",
       "      <th>75%</th>\n",
       "      <td>1.000000</td>\n",
       "      <td>1.000000</td>\n",
       "      <td>1.000000</td>\n",
       "      <td>1.000000</td>\n",
       "      <td>1.000000</td>\n",
       "      <td>1.000000</td>\n",
       "      <td>0.000000</td>\n",
       "      <td>1.000000</td>\n",
       "      <td>1.000000</td>\n",
       "      <td>1.000000</td>\n",
       "      <td>...</td>\n",
       "      <td>0.000000</td>\n",
       "      <td>0.000000</td>\n",
       "      <td>0.000000</td>\n",
       "      <td>1.000000</td>\n",
       "      <td>1.000000</td>\n",
       "      <td>1.000000</td>\n",
       "      <td>0.000000</td>\n",
       "      <td>0.000000</td>\n",
       "      <td>0.000000</td>\n",
       "      <td>1.000000</td>\n",
       "    </tr>\n",
       "    <tr>\n",
       "      <th>max</th>\n",
       "      <td>1.000000</td>\n",
       "      <td>1.000000</td>\n",
       "      <td>1.000000</td>\n",
       "      <td>1.000000</td>\n",
       "      <td>1.000000</td>\n",
       "      <td>1.000000</td>\n",
       "      <td>1.000000</td>\n",
       "      <td>1.000000</td>\n",
       "      <td>1.000000</td>\n",
       "      <td>1.000000</td>\n",
       "      <td>...</td>\n",
       "      <td>1.000000</td>\n",
       "      <td>1.000000</td>\n",
       "      <td>1.000000</td>\n",
       "      <td>1.000000</td>\n",
       "      <td>1.000000</td>\n",
       "      <td>1.000000</td>\n",
       "      <td>1.000000</td>\n",
       "      <td>1.000000</td>\n",
       "      <td>1.000000</td>\n",
       "      <td>1.000000</td>\n",
       "    </tr>\n",
       "  </tbody>\n",
       "</table>\n",
       "<p>8 rows × 216 columns</p>\n",
       "</div>"
      ],
      "text/plain": [
       "           transact  onServiceConnected   bindService  attachInterface  \\\n",
       "count  15031.000000        15031.000000  15031.000000     15031.000000   \n",
       "mean       0.426585            0.446743      0.442818         0.413346   \n",
       "std        0.494597            0.497172      0.496736         0.492450   \n",
       "min        0.000000            0.000000      0.000000         0.000000   \n",
       "25%        0.000000            0.000000      0.000000         0.000000   \n",
       "50%        0.000000            0.000000      0.000000         0.000000   \n",
       "75%        1.000000            1.000000      1.000000         1.000000   \n",
       "max        1.000000            1.000000      1.000000         1.000000   \n",
       "\n",
       "       ServiceConnection  android.os.Binder      SEND_SMS  \\\n",
       "count       15031.000000       15031.000000  15031.000000   \n",
       "mean            0.445080           0.487060      0.236711   \n",
       "std             0.496991           0.499849      0.425077   \n",
       "min             0.000000           0.000000      0.000000   \n",
       "25%             0.000000           0.000000      0.000000   \n",
       "50%             0.000000           0.000000      0.000000   \n",
       "75%             1.000000           1.000000      0.000000   \n",
       "max             1.000000           1.000000      1.000000   \n",
       "\n",
       "       Ljava.lang.Class.getCanonicalName  Ljava.lang.Class.getMethods  \\\n",
       "count                       15031.000000                 15031.000000   \n",
       "mean                            0.330916                     0.282483   \n",
       "std                             0.470559                     0.450222   \n",
       "min                             0.000000                     0.000000   \n",
       "25%                             0.000000                     0.000000   \n",
       "50%                             0.000000                     0.000000   \n",
       "75%                             1.000000                     1.000000   \n",
       "max                             1.000000                     1.000000   \n",
       "\n",
       "       Ljava.lang.Class.cast  ...  READ_CONTACTS  DEVICE_POWER  HARDWARE_TEST  \\\n",
       "count           15031.000000  ...   15031.000000  15031.000000   15031.000000   \n",
       "mean                0.312687  ...       0.233384      0.017431       0.004258   \n",
       "std                 0.463603  ...       0.422999      0.130874       0.065115   \n",
       "min                 0.000000  ...       0.000000      0.000000       0.000000   \n",
       "25%                 0.000000  ...       0.000000      0.000000       0.000000   \n",
       "50%                 0.000000  ...       0.000000      0.000000       0.000000   \n",
       "75%                 1.000000  ...       0.000000      0.000000       0.000000   \n",
       "max                 1.000000  ...       1.000000      1.000000       1.000000   \n",
       "\n",
       "       ACCESS_WIFI_STATE  WRITE_EXTERNAL_STORAGE  ACCESS_FINE_LOCATION  \\\n",
       "count       15031.000000            15031.000000          15031.000000   \n",
       "mean            0.434569                0.666356              0.290932   \n",
       "std             0.495717                0.471530              0.454207   \n",
       "min             0.000000                0.000000              0.000000   \n",
       "25%             0.000000                0.000000              0.000000   \n",
       "50%             0.000000                1.000000              0.000000   \n",
       "75%             1.000000                1.000000              1.000000   \n",
       "max             1.000000                1.000000              1.000000   \n",
       "\n",
       "       SET_WALLPAPER_HINTS  SET_PREFERRED_APPLICATIONS  WRITE_SECURE_SETTINGS  \\\n",
       "count         15031.000000                15031.000000           15031.000000   \n",
       "mean              0.016034                    0.007052               0.044974   \n",
       "std               0.125609                    0.083683               0.207253   \n",
       "min               0.000000                    0.000000               0.000000   \n",
       "25%               0.000000                    0.000000               0.000000   \n",
       "50%               0.000000                    0.000000               0.000000   \n",
       "75%               0.000000                    0.000000               0.000000   \n",
       "max               1.000000                    1.000000               1.000000   \n",
       "\n",
       "              class  \n",
       "count  15031.000000  \n",
       "mean       0.369570  \n",
       "std        0.482704  \n",
       "min        0.000000  \n",
       "25%        0.000000  \n",
       "50%        0.000000  \n",
       "75%        1.000000  \n",
       "max        1.000000  \n",
       "\n",
       "[8 rows x 216 columns]"
      ]
     },
     "execution_count": 12,
     "metadata": {},
     "output_type": "execute_result"
    }
   ],
   "source": [
    "data.describe()"
   ]
  },
  {
   "cell_type": "markdown",
   "metadata": {},
   "source": [
    "# ***Implementação do algoritmo de Machine Learning***"
   ]
  },
  {
   "cell_type": "markdown",
   "metadata": {},
   "source": [
    "#### ***Separando das variavéis de entrada(variaveis explicativas) e de saída (target)***"
   ]
  },
  {
   "cell_type": "code",
   "execution_count": 13,
   "metadata": {},
   "outputs": [],
   "source": [
    "X = data.drop('class', axis=1)\n",
    "y = data['class']"
   ]
  },
  {
   "cell_type": "markdown",
   "metadata": {},
   "source": [
    "#### ***Separaando a base em treino e teste, sendo 80% para treino e 20% para teste***"
   ]
  },
  {
   "cell_type": "code",
   "execution_count": 14,
   "metadata": {},
   "outputs": [],
   "source": [
    "X_train, X_test, y_train, y_test = train_test_split(X, y, test_size=0.2, random_state=42)"
   ]
  },
  {
   "cell_type": "markdown",
   "metadata": {},
   "source": [
    "#### ***Analisando o shape dos dados após divisão***"
   ]
  },
  {
   "cell_type": "code",
   "execution_count": 15,
   "metadata": {},
   "outputs": [
    {
     "data": {
      "text/plain": [
       "((12024, 215), (12024,), (3007, 215), (3007,))"
      ]
     },
     "execution_count": 15,
     "metadata": {},
     "output_type": "execute_result"
    }
   ],
   "source": [
    "X_train.shape, y_train.shape, X_test.shape, y_test.shape"
   ]
  },
  {
   "cell_type": "markdown",
   "metadata": {},
   "source": [
    "## ***Algoritmos Testados***"
   ]
  },
  {
   "cell_type": "markdown",
   "metadata": {},
   "source": [
    "* Rede Neurais - Keras/TensorFlow </br>\n",
    "* Logistic Regression; </br>\n",
    "* Random Forest; </br>\n",
    "* KNN (K-Nearest Neighbors); </br>\n",
    "* MLPClassifier (Multi-layer Perceptron); </br>\n",
    "* LightGBM; </br>\n",
    "* SVM (Support Vector Machines); </br>\n",
    "* Decision Trees; </br>"
   ]
  },
  {
   "cell_type": "markdown",
   "metadata": {},
   "source": [
    "Os algoritmos foram avaliados em função das métricas: f1-score, precision, recall e acurácia. Porém, a **acurácia** foi determinante para a escolha do melhor desempenho.\n",
    "Embora todos os modelos tenham apresentado bons resultados, o que teve melhor desempenho foi o de **Redes Neurais**, realizado com as bibliotecas Keras/TensorFlow, tendo apresentado uma acurácia de 99%.\n",
    "Em contrapartida, o algoritmo de Árvore de Decisão apresentou um desempenho mais abaixo que os demais."
   ]
  },
  {
   "cell_type": "markdown",
   "metadata": {},
   "source": [
    "# ***Redes Neurais - Keras (Maior Acurácia)***"
   ]
  },
  {
   "cell_type": "markdown",
   "metadata": {},
   "source": [
    "#### ***Criando e Avaliando Máquina Preditiva***"
   ]
  },
  {
   "cell_type": "code",
   "execution_count": 16,
   "metadata": {},
   "outputs": [],
   "source": [
    "# Atribuindo ao nome da máquina preditiva de MP com extensão h5\n",
    "# Criando e salvando o melhor modelo\n",
    "model_checkpoint = ModelCheckpoint('MP.h5', monitor=\"val_accuracy\", save_best_only=True)"
   ]
  },
  {
   "cell_type": "code",
   "execution_count": 17,
   "metadata": {},
   "outputs": [],
   "source": [
    "# Infraestrutura do Modelo\n",
    "model = Sequential()\n",
    "model.add(Dense(64, input_shape=X_train.shape[1:], activation=\"relu\"))\n",
    "model.add(Dropout(0.1))\n",
    "model.add(Dense(128, activation=\"relu\"))\n",
    "model.add(Dropout(0.1))\n",
    "model.add(Dense(256, activation=\"relu\"))\n",
    "model.add(Dropout(0.1))\n",
    "model.add(Dense(128, activation=\"relu\"))\n",
    "model.add(Dropout(0.1))\n",
    "model.add(Dense(64, activation=\"relu\"))\n",
    "model.add(Dropout(0.1))\n",
    "model.add(Dense(1, activation=\"sigmoid\"))\n",
    "model.compile(loss=\"binary_crossentropy\", metrics=[\"accuracy\"], optimizer=\"adam\")"
   ]
  },
  {
   "cell_type": "code",
   "execution_count": 18,
   "metadata": {},
   "outputs": [
    {
     "name": "stdout",
     "output_type": "stream",
     "text": [
      "Model: \"sequential\"\n",
      "_________________________________________________________________\n",
      " Layer (type)                Output Shape              Param #   \n",
      "=================================================================\n",
      " dense (Dense)               (None, 64)                13824     \n",
      "                                                                 \n",
      " dropout (Dropout)           (None, 64)                0         \n",
      "                                                                 \n",
      " dense_1 (Dense)             (None, 128)               8320      \n",
      "                                                                 \n",
      " dropout_1 (Dropout)         (None, 128)               0         \n",
      "                                                                 \n",
      " dense_2 (Dense)             (None, 256)               33024     \n",
      "                                                                 \n",
      " dropout_2 (Dropout)         (None, 256)               0         \n",
      "                                                                 \n",
      " dense_3 (Dense)             (None, 128)               32896     \n",
      "                                                                 \n",
      " dropout_3 (Dropout)         (None, 128)               0         \n",
      "                                                                 \n",
      " dense_4 (Dense)             (None, 64)                8256      \n",
      "                                                                 \n",
      " dropout_4 (Dropout)         (None, 64)                0         \n",
      "                                                                 \n",
      " dense_5 (Dense)             (None, 1)                 65        \n",
      "                                                                 \n",
      "=================================================================\n",
      "Total params: 96,385\n",
      "Trainable params: 96,385\n",
      "Non-trainable params: 0\n",
      "_________________________________________________________________\n"
     ]
    }
   ],
   "source": [
    "# Sumário do Modelo\n",
    "model.summary()"
   ]
  },
  {
   "cell_type": "code",
   "execution_count": 19,
   "metadata": {
    "scrolled": true
   },
   "outputs": [
    {
     "name": "stdout",
     "output_type": "stream",
     "text": [
      "Epoch 1/100\n",
      "376/376 [==============================] - 3s 5ms/step - loss: 0.1313 - accuracy: 0.9502 - val_loss: 0.0660 - val_accuracy: 0.9767\n",
      "Epoch 2/100\n",
      "376/376 [==============================] - 2s 5ms/step - loss: 0.0596 - accuracy: 0.9820 - val_loss: 0.0584 - val_accuracy: 0.9807\n",
      "Epoch 3/100\n",
      "376/376 [==============================] - 2s 5ms/step - loss: 0.0402 - accuracy: 0.9869 - val_loss: 0.0657 - val_accuracy: 0.9837\n",
      "Epoch 4/100\n",
      "376/376 [==============================] - 2s 5ms/step - loss: 0.0324 - accuracy: 0.9893 - val_loss: 0.0609 - val_accuracy: 0.9807\n",
      "Epoch 5/100\n",
      "376/376 [==============================] - 2s 5ms/step - loss: 0.0262 - accuracy: 0.9918 - val_loss: 0.0508 - val_accuracy: 0.9874\n",
      "Epoch 6/100\n",
      "376/376 [==============================] - 2s 5ms/step - loss: 0.0186 - accuracy: 0.9938 - val_loss: 0.0609 - val_accuracy: 0.9860\n",
      "Epoch 7/100\n",
      "376/376 [==============================] - 2s 5ms/step - loss: 0.0186 - accuracy: 0.9943 - val_loss: 0.0621 - val_accuracy: 0.9870\n",
      "Epoch 8/100\n",
      "376/376 [==============================] - 2s 5ms/step - loss: 0.0151 - accuracy: 0.9956 - val_loss: 0.0553 - val_accuracy: 0.9870\n",
      "Epoch 9/100\n",
      "376/376 [==============================] - 2s 5ms/step - loss: 0.0148 - accuracy: 0.9955 - val_loss: 0.0652 - val_accuracy: 0.9860\n",
      "Epoch 10/100\n",
      "376/376 [==============================] - 2s 5ms/step - loss: 0.0116 - accuracy: 0.9965 - val_loss: 0.0751 - val_accuracy: 0.9850\n",
      "Epoch 11/100\n",
      "376/376 [==============================] - 2s 5ms/step - loss: 0.0139 - accuracy: 0.9961 - val_loss: 0.0623 - val_accuracy: 0.9860\n",
      "Epoch 12/100\n",
      "376/376 [==============================] - 2s 5ms/step - loss: 0.0104 - accuracy: 0.9968 - val_loss: 0.0632 - val_accuracy: 0.9884\n",
      "Epoch 13/100\n",
      "376/376 [==============================] - 2s 5ms/step - loss: 0.0104 - accuracy: 0.9970 - val_loss: 0.1005 - val_accuracy: 0.9870\n",
      "Epoch 14/100\n",
      "376/376 [==============================] - 2s 5ms/step - loss: 0.0100 - accuracy: 0.9969 - val_loss: 0.0602 - val_accuracy: 0.9860\n",
      "Epoch 15/100\n",
      "376/376 [==============================] - 2s 5ms/step - loss: 0.0104 - accuracy: 0.9970 - val_loss: 0.0824 - val_accuracy: 0.9884\n",
      "Epoch 16/100\n",
      "376/376 [==============================] - 2s 5ms/step - loss: 0.0087 - accuracy: 0.9981 - val_loss: 0.1000 - val_accuracy: 0.9854\n",
      "Epoch 17/100\n",
      "376/376 [==============================] - 2s 5ms/step - loss: 0.0121 - accuracy: 0.9970 - val_loss: 0.0785 - val_accuracy: 0.9847\n",
      "Epoch 18/100\n",
      "376/376 [==============================] - 2s 6ms/step - loss: 0.0089 - accuracy: 0.9976 - val_loss: 0.0758 - val_accuracy: 0.9890\n",
      "Epoch 19/100\n",
      "376/376 [==============================] - 2s 5ms/step - loss: 0.0088 - accuracy: 0.9979 - val_loss: 0.0922 - val_accuracy: 0.9870\n",
      "Epoch 20/100\n",
      "376/376 [==============================] - 2s 5ms/step - loss: 0.0094 - accuracy: 0.9979 - val_loss: 0.0615 - val_accuracy: 0.9874\n",
      "Epoch 21/100\n",
      "376/376 [==============================] - 2s 5ms/step - loss: 0.0061 - accuracy: 0.9988 - val_loss: 0.0806 - val_accuracy: 0.9870\n",
      "Epoch 22/100\n",
      "376/376 [==============================] - 2s 5ms/step - loss: 0.0096 - accuracy: 0.9972 - val_loss: 0.0794 - val_accuracy: 0.9890\n",
      "Epoch 23/100\n",
      "376/376 [==============================] - 2s 5ms/step - loss: 0.0064 - accuracy: 0.9984 - val_loss: 0.0689 - val_accuracy: 0.9870\n",
      "Epoch 24/100\n",
      "376/376 [==============================] - 2s 5ms/step - loss: 0.0072 - accuracy: 0.9983 - val_loss: 0.0787 - val_accuracy: 0.9870\n",
      "Epoch 25/100\n",
      "376/376 [==============================] - 2s 5ms/step - loss: 0.0086 - accuracy: 0.9978 - val_loss: 0.0997 - val_accuracy: 0.9860\n",
      "Epoch 26/100\n",
      "376/376 [==============================] - 2s 5ms/step - loss: 0.0104 - accuracy: 0.9968 - val_loss: 0.0604 - val_accuracy: 0.9860\n",
      "Epoch 27/100\n",
      "376/376 [==============================] - 2s 5ms/step - loss: 0.0082 - accuracy: 0.9984 - val_loss: 0.0612 - val_accuracy: 0.9884\n",
      "Epoch 28/100\n",
      "376/376 [==============================] - 2s 5ms/step - loss: 0.0056 - accuracy: 0.9986 - val_loss: 0.0879 - val_accuracy: 0.9844\n",
      "Epoch 29/100\n",
      "376/376 [==============================] - 2s 5ms/step - loss: 0.0060 - accuracy: 0.9986 - val_loss: 0.0896 - val_accuracy: 0.9887\n",
      "Epoch 30/100\n",
      "376/376 [==============================] - 2s 5ms/step - loss: 0.0055 - accuracy: 0.9985 - val_loss: 0.1031 - val_accuracy: 0.9854\n",
      "Epoch 31/100\n",
      "376/376 [==============================] - 2s 5ms/step - loss: 0.0050 - accuracy: 0.9989 - val_loss: 0.1013 - val_accuracy: 0.9890\n",
      "Epoch 32/100\n",
      "376/376 [==============================] - 2s 5ms/step - loss: 0.0082 - accuracy: 0.9983 - val_loss: 0.0837 - val_accuracy: 0.9890\n",
      "Epoch 33/100\n",
      "376/376 [==============================] - 2s 5ms/step - loss: 0.0082 - accuracy: 0.9983 - val_loss: 0.0661 - val_accuracy: 0.9887\n",
      "Epoch 34/100\n",
      "376/376 [==============================] - 2s 5ms/step - loss: 0.0065 - accuracy: 0.9984 - val_loss: 0.0986 - val_accuracy: 0.9867\n",
      "Epoch 35/100\n",
      "376/376 [==============================] - 2s 5ms/step - loss: 0.0079 - accuracy: 0.9978 - val_loss: 0.0827 - val_accuracy: 0.9897\n",
      "Epoch 36/100\n",
      "376/376 [==============================] - 2s 5ms/step - loss: 0.0040 - accuracy: 0.9993 - val_loss: 0.1152 - val_accuracy: 0.9874\n",
      "Epoch 37/100\n",
      "376/376 [==============================] - 2s 5ms/step - loss: 0.0049 - accuracy: 0.9990 - val_loss: 0.1057 - val_accuracy: 0.9897\n",
      "Epoch 38/100\n",
      "376/376 [==============================] - 2s 5ms/step - loss: 0.0090 - accuracy: 0.9977 - val_loss: 0.1177 - val_accuracy: 0.9890\n",
      "Epoch 39/100\n",
      "376/376 [==============================] - 2s 5ms/step - loss: 0.0063 - accuracy: 0.9984 - val_loss: 0.0936 - val_accuracy: 0.9880\n",
      "Epoch 40/100\n",
      "376/376 [==============================] - 2s 5ms/step - loss: 0.0054 - accuracy: 0.9986 - val_loss: 0.0898 - val_accuracy: 0.9884\n",
      "Epoch 41/100\n",
      "376/376 [==============================] - 2s 5ms/step - loss: 0.0060 - accuracy: 0.9984 - val_loss: 0.1442 - val_accuracy: 0.9894\n",
      "Epoch 42/100\n",
      "376/376 [==============================] - 2s 6ms/step - loss: 0.0064 - accuracy: 0.9983 - val_loss: 0.0709 - val_accuracy: 0.9890\n",
      "Epoch 43/100\n",
      "376/376 [==============================] - 2s 5ms/step - loss: 0.0061 - accuracy: 0.9985 - val_loss: 0.1072 - val_accuracy: 0.9870\n",
      "Epoch 44/100\n",
      "376/376 [==============================] - 2s 5ms/step - loss: 0.0060 - accuracy: 0.9982 - val_loss: 0.1123 - val_accuracy: 0.9884\n",
      "Epoch 45/100\n",
      "376/376 [==============================] - 2s 5ms/step - loss: 0.0045 - accuracy: 0.9989 - val_loss: 0.1445 - val_accuracy: 0.9874\n",
      "Epoch 46/100\n",
      "376/376 [==============================] - 2s 5ms/step - loss: 0.0058 - accuracy: 0.9983 - val_loss: 0.1357 - val_accuracy: 0.9884\n",
      "Epoch 47/100\n",
      "376/376 [==============================] - 2s 5ms/step - loss: 0.0033 - accuracy: 0.9993 - val_loss: 0.1769 - val_accuracy: 0.9887\n",
      "Epoch 48/100\n",
      "376/376 [==============================] - 2s 5ms/step - loss: 0.0079 - accuracy: 0.9984 - val_loss: 0.1162 - val_accuracy: 0.9910\n",
      "Epoch 49/100\n",
      "376/376 [==============================] - 2s 4ms/step - loss: 0.0090 - accuracy: 0.9981 - val_loss: 0.0995 - val_accuracy: 0.9904\n",
      "Epoch 50/100\n",
      "376/376 [==============================] - 2s 4ms/step - loss: 0.0046 - accuracy: 0.9991 - val_loss: 0.1010 - val_accuracy: 0.9884\n",
      "Epoch 51/100\n",
      "376/376 [==============================] - 2s 4ms/step - loss: 0.0056 - accuracy: 0.9986 - val_loss: 0.1221 - val_accuracy: 0.9894\n",
      "Epoch 52/100\n",
      "376/376 [==============================] - 2s 5ms/step - loss: 0.0096 - accuracy: 0.9981 - val_loss: 0.0801 - val_accuracy: 0.9870\n",
      "Epoch 53/100\n",
      "376/376 [==============================] - 2s 4ms/step - loss: 0.0044 - accuracy: 0.9992 - val_loss: 0.1234 - val_accuracy: 0.9867\n",
      "Epoch 54/100\n",
      "376/376 [==============================] - 2s 4ms/step - loss: 0.0046 - accuracy: 0.9988 - val_loss: 0.0977 - val_accuracy: 0.9890\n",
      "Epoch 55/100\n",
      "376/376 [==============================] - 2s 4ms/step - loss: 0.0056 - accuracy: 0.9986 - val_loss: 0.0924 - val_accuracy: 0.9900\n",
      "Epoch 56/100\n",
      "376/376 [==============================] - 2s 5ms/step - loss: 0.0034 - accuracy: 0.9993 - val_loss: 0.1214 - val_accuracy: 0.9900\n",
      "Epoch 57/100\n",
      "376/376 [==============================] - 2s 5ms/step - loss: 0.0039 - accuracy: 0.9991 - val_loss: 0.2110 - val_accuracy: 0.9877\n",
      "Epoch 58/100\n",
      "376/376 [==============================] - 2s 5ms/step - loss: 0.0055 - accuracy: 0.9988 - val_loss: 0.1616 - val_accuracy: 0.9894\n",
      "Epoch 59/100\n",
      "376/376 [==============================] - 2s 5ms/step - loss: 0.0052 - accuracy: 0.9990 - val_loss: 0.1416 - val_accuracy: 0.9887\n",
      "Epoch 60/100\n",
      "376/376 [==============================] - 2s 5ms/step - loss: 0.0057 - accuracy: 0.9988 - val_loss: 0.1590 - val_accuracy: 0.9884\n",
      "Epoch 61/100\n",
      "376/376 [==============================] - 2s 5ms/step - loss: 0.0068 - accuracy: 0.9985 - val_loss: 0.1302 - val_accuracy: 0.9887\n",
      "Epoch 62/100\n",
      "376/376 [==============================] - 2s 5ms/step - loss: 0.0038 - accuracy: 0.9991 - val_loss: 0.1503 - val_accuracy: 0.9894\n",
      "Epoch 63/100\n",
      "376/376 [==============================] - 2s 6ms/step - loss: 0.0093 - accuracy: 0.9988 - val_loss: 0.1008 - val_accuracy: 0.9884\n",
      "Epoch 64/100\n",
      "376/376 [==============================] - 2s 5ms/step - loss: 0.0085 - accuracy: 0.9985 - val_loss: 0.1286 - val_accuracy: 0.9860\n",
      "Epoch 65/100\n",
      "376/376 [==============================] - 2s 5ms/step - loss: 0.0050 - accuracy: 0.9986 - val_loss: 0.1020 - val_accuracy: 0.9877\n",
      "Epoch 66/100\n",
      "376/376 [==============================] - 2s 5ms/step - loss: 0.0044 - accuracy: 0.9988 - val_loss: 0.1172 - val_accuracy: 0.9884\n",
      "Epoch 67/100\n",
      "376/376 [==============================] - 2s 5ms/step - loss: 0.0036 - accuracy: 0.9993 - val_loss: 0.1358 - val_accuracy: 0.9884\n",
      "Epoch 68/100\n",
      "376/376 [==============================] - 2s 5ms/step - loss: 0.0049 - accuracy: 0.9991 - val_loss: 0.1010 - val_accuracy: 0.9870\n",
      "Epoch 69/100\n",
      "376/376 [==============================] - 2s 5ms/step - loss: 0.0052 - accuracy: 0.9985 - val_loss: 0.1353 - val_accuracy: 0.9877\n",
      "Epoch 70/100\n",
      "376/376 [==============================] - 2s 5ms/step - loss: 0.0043 - accuracy: 0.9992 - val_loss: 0.1775 - val_accuracy: 0.9857\n",
      "Epoch 71/100\n",
      "376/376 [==============================] - 2s 5ms/step - loss: 0.0074 - accuracy: 0.9988 - val_loss: 0.0942 - val_accuracy: 0.9884\n",
      "Epoch 72/100\n",
      "376/376 [==============================] - 2s 5ms/step - loss: 0.0050 - accuracy: 0.9989 - val_loss: 0.1148 - val_accuracy: 0.9867\n",
      "Epoch 73/100\n",
      "376/376 [==============================] - 2s 5ms/step - loss: 0.0038 - accuracy: 0.9993 - val_loss: 0.1272 - val_accuracy: 0.9877\n",
      "Epoch 74/100\n",
      "376/376 [==============================] - 2s 5ms/step - loss: 0.0048 - accuracy: 0.9988 - val_loss: 0.1160 - val_accuracy: 0.9870\n",
      "Epoch 75/100\n",
      "376/376 [==============================] - 2s 5ms/step - loss: 0.0050 - accuracy: 0.9990 - val_loss: 0.1566 - val_accuracy: 0.9874\n",
      "Epoch 76/100\n",
      "376/376 [==============================] - 2s 5ms/step - loss: 0.0092 - accuracy: 0.9976 - val_loss: 0.1032 - val_accuracy: 0.9870\n",
      "Epoch 77/100\n",
      "376/376 [==============================] - 2s 5ms/step - loss: 0.0056 - accuracy: 0.9988 - val_loss: 0.1480 - val_accuracy: 0.9850\n",
      "Epoch 78/100\n",
      "376/376 [==============================] - 2s 5ms/step - loss: 0.0036 - accuracy: 0.9993 - val_loss: 0.1740 - val_accuracy: 0.9890\n",
      "Epoch 79/100\n",
      "376/376 [==============================] - 2s 5ms/step - loss: 0.0040 - accuracy: 0.9993 - val_loss: 0.1644 - val_accuracy: 0.9887\n",
      "Epoch 80/100\n",
      "376/376 [==============================] - 2s 5ms/step - loss: 0.0056 - accuracy: 0.9988 - val_loss: 0.1313 - val_accuracy: 0.9877\n",
      "Epoch 81/100\n",
      "376/376 [==============================] - 2s 5ms/step - loss: 0.0034 - accuracy: 0.9993 - val_loss: 0.1971 - val_accuracy: 0.9877\n",
      "Epoch 82/100\n",
      "376/376 [==============================] - 2s 5ms/step - loss: 0.0037 - accuracy: 0.9992 - val_loss: 0.1840 - val_accuracy: 0.9884\n",
      "Epoch 83/100\n",
      "376/376 [==============================] - 2s 5ms/step - loss: 0.0054 - accuracy: 0.9986 - val_loss: 0.1704 - val_accuracy: 0.9867\n",
      "Epoch 84/100\n",
      "376/376 [==============================] - 2s 5ms/step - loss: 0.0067 - accuracy: 0.9980 - val_loss: 0.1192 - val_accuracy: 0.9877\n",
      "Epoch 85/100\n",
      "376/376 [==============================] - 2s 6ms/step - loss: 0.0033 - accuracy: 0.9992 - val_loss: 0.1451 - val_accuracy: 0.9880\n",
      "Epoch 86/100\n",
      "376/376 [==============================] - 2s 5ms/step - loss: 0.0037 - accuracy: 0.9991 - val_loss: 0.1415 - val_accuracy: 0.9887\n",
      "Epoch 87/100\n",
      "376/376 [==============================] - 2s 5ms/step - loss: 0.0048 - accuracy: 0.9989 - val_loss: 0.1315 - val_accuracy: 0.9884\n",
      "Epoch 88/100\n",
      "376/376 [==============================] - 2s 5ms/step - loss: 0.0054 - accuracy: 0.9987 - val_loss: 0.1443 - val_accuracy: 0.9880\n",
      "Epoch 89/100\n",
      "376/376 [==============================] - 2s 5ms/step - loss: 0.0048 - accuracy: 0.9988 - val_loss: 0.1259 - val_accuracy: 0.9864\n",
      "Epoch 90/100\n",
      "376/376 [==============================] - 2s 5ms/step - loss: 0.0040 - accuracy: 0.9992 - val_loss: 0.1648 - val_accuracy: 0.9854\n",
      "Epoch 91/100\n",
      "376/376 [==============================] - 2s 5ms/step - loss: 0.0069 - accuracy: 0.9986 - val_loss: 0.1609 - val_accuracy: 0.9870\n",
      "Epoch 92/100\n",
      "376/376 [==============================] - 2s 5ms/step - loss: 0.0035 - accuracy: 0.9993 - val_loss: 0.2488 - val_accuracy: 0.9864\n",
      "Epoch 93/100\n",
      "376/376 [==============================] - 2s 5ms/step - loss: 0.0061 - accuracy: 0.9988 - val_loss: 0.1707 - val_accuracy: 0.9877\n",
      "Epoch 94/100\n",
      "376/376 [==============================] - 2s 5ms/step - loss: 0.0054 - accuracy: 0.9988 - val_loss: 0.1482 - val_accuracy: 0.9854\n",
      "Epoch 95/100\n",
      "376/376 [==============================] - 2s 5ms/step - loss: 0.0046 - accuracy: 0.9989 - val_loss: 0.1193 - val_accuracy: 0.9867\n",
      "Epoch 96/100\n",
      "376/376 [==============================] - 2s 5ms/step - loss: 0.0063 - accuracy: 0.9985 - val_loss: 0.1328 - val_accuracy: 0.9847\n",
      "Epoch 97/100\n",
      "376/376 [==============================] - 2s 5ms/step - loss: 0.0036 - accuracy: 0.9993 - val_loss: 0.1587 - val_accuracy: 0.9867\n",
      "Epoch 98/100\n",
      "376/376 [==============================] - 2s 5ms/step - loss: 0.0070 - accuracy: 0.9989 - val_loss: 0.1584 - val_accuracy: 0.9867\n",
      "Epoch 99/100\n",
      "376/376 [==============================] - 2s 5ms/step - loss: 0.0058 - accuracy: 0.9987 - val_loss: 0.1215 - val_accuracy: 0.9880\n",
      "Epoch 100/100\n",
      "376/376 [==============================] - 2s 5ms/step - loss: 0.0038 - accuracy: 0.9993 - val_loss: 0.1520 - val_accuracy: 0.9887\n"
     ]
    },
    {
     "data": {
      "text/plain": [
       "<keras.callbacks.History at 0x1d780ab1790>"
      ]
     },
     "execution_count": 19,
     "metadata": {},
     "output_type": "execute_result"
    }
   ],
   "source": [
    "# Treinando o modelo em 100 épocas, avaliando e salvando o modelo\n",
    "model.fit(X_train, y_train, epochs=100, validation_data=(X_test, y_test), callbacks=[model_checkpoint])"
   ]
  },
  {
   "cell_type": "code",
   "execution_count": 20,
   "metadata": {},
   "outputs": [],
   "source": [
    "# Carregando o modelo salvo\n",
    "model1 = load_model(\"MP.h5\")"
   ]
  },
  {
   "cell_type": "code",
   "execution_count": 21,
   "metadata": {},
   "outputs": [
    {
     "name": "stdout",
     "output_type": "stream",
     "text": [
      "94/94 [==============================] - 0s 2ms/step - loss: 0.1162 - accuracy: 0.9910\n"
     ]
    },
    {
     "data": {
      "text/plain": [
       "[0.11624888330698013, 0.9910209774971008]"
      ]
     },
     "execution_count": 21,
     "metadata": {},
     "output_type": "execute_result"
    }
   ],
   "source": [
    "# Avaliando o modelo\n",
    "model1.evaluate(X_test, y_test)"
   ]
  },
  {
   "cell_type": "code",
   "execution_count": 22,
   "metadata": {},
   "outputs": [
    {
     "name": "stdout",
     "output_type": "stream",
     "text": [
      "94/94 [==============================] - 0s 2ms/step - loss: 0.1162 - accuracy: 0.9910\n"
     ]
    }
   ],
   "source": [
    "loss, acc = model1.evaluate(X_test, y_test)"
   ]
  },
  {
   "cell_type": "code",
   "execution_count": 23,
   "metadata": {},
   "outputs": [
    {
     "name": "stdout",
     "output_type": "stream",
     "text": [
      "94/94 [==============================] - 3s 2ms/step\n"
     ]
    }
   ],
   "source": [
    "y_pred = model1.predict(X_test)"
   ]
  },
  {
   "cell_type": "code",
   "execution_count": 24,
   "metadata": {},
   "outputs": [
    {
     "name": "stdout",
     "output_type": "stream",
     "text": [
      "Precisão dos dados de teste: 99.28%\n",
      "Acurácia: 99.1%\n"
     ]
    }
   ],
   "source": [
    "print('Precisão dos dados de teste: {}%'.format(round(precision_score(y_test, np.around(y_pred)),4)*100))\n",
    "print('Acurácia: {}%'.format(round((acc),4)*100))"
   ]
  },
  {
   "cell_type": "markdown",
   "metadata": {},
   "source": [
    "Predições com o modelo:"
   ]
  },
  {
   "cell_type": "code",
   "execution_count": 25,
   "metadata": {},
   "outputs": [
    {
     "data": {
      "text/plain": [
       "(array([1, 1, 0, 1, 0, 1, 1, 0, 1, 1, 0, 1, 1, 0, 0, 1, 0, 0, 0, 0, 0, 1,\n",
       "        0, 0, 1, 1, 0, 0, 1, 0, 0, 1, 0, 0, 0, 1, 1, 0, 1, 1, 1, 1, 1, 0,\n",
       "        1, 0, 0, 0, 0, 1, 0, 1, 1, 1, 0, 1, 0, 1, 1, 0, 1, 0, 0, 1, 0, 0,\n",
       "        0, 1, 1, 0, 0, 0, 1, 0, 1, 1, 0, 1, 1, 0, 1, 0, 0, 0, 0, 0, 1, 0,\n",
       "        1, 0, 0, 0, 0, 0, 0, 0, 1, 1, 0, 1, 1, 0, 0, 1, 0, 0, 1, 0, 0, 0,\n",
       "        0, 0, 0, 1, 1, 1, 0, 0, 0, 1, 1, 1, 1, 0, 1, 0, 1, 1, 1, 0, 0, 1,\n",
       "        1, 1, 0, 0, 0, 0, 0, 1, 1, 1, 1, 0, 1, 1, 0, 0, 0, 1, 0, 1, 1, 0,\n",
       "        1, 0, 0, 0, 0, 1, 1, 0, 0, 0, 1, 1, 1, 0, 0, 0, 0, 0, 0, 0, 0, 1,\n",
       "        0, 1, 1, 1, 0, 0, 0, 1, 0, 1, 0, 1, 1, 1, 1, 1, 1, 0, 1, 1, 1, 1,\n",
       "        1, 1, 0, 0, 1, 1, 0, 1, 1, 1, 0, 1, 0, 1, 0, 0, 1]),\n",
       " array([1, 0, 1, 1, 1, 0, 1, 1, 0, 1, 1, 1, 0, 1, 0, 0, 1, 1, 1, 1, 1, 0,\n",
       "        0, 1, 1, 0, 0, 0, 0, 0, 0, 0, 0, 0, 0, 1, 0, 1, 0, 1, 0, 1, 0, 1,\n",
       "        1, 0, 1, 1, 1, 0, 0, 0, 0, 0, 0, 0, 0, 1, 0, 0, 0, 1, 0, 1, 0, 0,\n",
       "        0, 0, 1, 1, 1, 1, 0, 1, 1, 1, 1, 0, 1, 1, 1, 0, 0, 1, 0, 0, 0, 0,\n",
       "        0, 1, 1, 0, 0, 0, 1, 0, 0, 1, 0, 0, 0, 0, 1, 0, 0, 1, 1, 0, 1, 1,\n",
       "        1, 1, 1, 1, 0, 0, 1, 1, 1, 0, 0, 0, 1, 0, 1, 1, 0, 1, 1, 1, 1, 0,\n",
       "        1, 0, 1, 1, 0, 0, 1, 0, 0, 0, 0, 0, 0, 1, 1, 1, 1, 0, 1, 0, 1, 1,\n",
       "        0, 0, 1, 1, 1, 1, 0, 0, 0, 1, 0, 0, 1, 0, 0, 0, 1, 0, 1, 1, 0, 0,\n",
       "        1, 0, 0, 0, 1, 1, 1, 1, 0, 1, 1, 0, 0, 0, 1, 1, 0, 1, 0, 0, 1, 1,\n",
       "        0, 1, 0, 1, 0, 1, 0, 1, 1, 0, 1, 1, 1, 0, 1, 1, 0]))"
      ]
     },
     "execution_count": 25,
     "metadata": {},
     "output_type": "execute_result"
    }
   ],
   "source": [
    "x = random.choice([0,1], 215)\n",
    "y = random.choice([0,1], 215)\n",
    "x, y"
   ]
  },
  {
   "cell_type": "code",
   "execution_count": 26,
   "metadata": {},
   "outputs": [
    {
     "name": "stdout",
     "output_type": "stream",
     "text": [
      "1/1 [==============================] - 0s 89ms/step\n",
      "1/1 [==============================] - 0s 19ms/step\n"
     ]
    },
    {
     "data": {
      "text/plain": [
       "(array([[0.]], dtype=float32), array([[0.]], dtype=float32))"
      ]
     },
     "execution_count": 26,
     "metadata": {},
     "output_type": "execute_result"
    }
   ],
   "source": [
    "x = x.reshape(1,-1)\n",
    "y = y.reshape(1,-1)\n",
    "model1.predict(x), model1.predict(y)"
   ]
  },
  {
   "cell_type": "code",
   "execution_count": 27,
   "metadata": {},
   "outputs": [
    {
     "name": "stdout",
     "output_type": "stream",
     "text": [
      "              precision    recall  f1-score   support\n",
      "\n",
      "           0       0.99      1.00      0.99      1886\n",
      "           1       0.99      0.98      0.99      1121\n",
      "\n",
      "    accuracy                           0.99      3007\n",
      "   macro avg       0.99      0.99      0.99      3007\n",
      "weighted avg       0.99      0.99      0.99      3007\n",
      "\n"
     ]
    }
   ],
   "source": [
    "print(classification_report(y_test, np.around(y_pred)))"
   ]
  },
  {
   "cell_type": "code",
   "execution_count": 28,
   "metadata": {},
   "outputs": [
    {
     "data": {
      "image/png": "[encoded data removed]",
      "text/plain": [
       "<Figure size 432x288 with 2 Axes>"
      ]
     },
     "metadata": {
      "needs_background": "light"
     },
     "output_type": "display_data"
    }
   ],
   "source": [
    "ConfusionMatrixDisplay.from_predictions(y_test, np.around(y_pred))\n",
    "plt.grid(False)\n",
    "plt.show()"
   ]
  },
  {
   "cell_type": "markdown",
   "metadata": {},
   "source": [
    "# ***Logistic Regression***"
   ]
  },
  {
   "cell_type": "code",
   "execution_count": 29,
   "metadata": {},
   "outputs": [
    {
     "name": "stdout",
     "output_type": "stream",
     "text": [
      "Precisão dos dados de teste: 96.78%\n",
      "Acurácia: 97.50999999999999%\n"
     ]
    }
   ],
   "source": [
    "lr = LogisticRegression(random_state=42, max_iter=200)\n",
    "lr.fit(X_train, y_train)\n",
    "y_pred = lr.predict(X_test)\n",
    "print('Precisão dos dados de teste: {}%'.format(round(precision_score(y_test, y_pred),4)*100))\n",
    "print('Acurácia: {}%'.format(round(accuracy_score(y_test, y_pred),4)*100))"
   ]
  },
  {
   "cell_type": "code",
   "execution_count": 30,
   "metadata": {
    "scrolled": true
   },
   "outputs": [
    {
     "name": "stdout",
     "output_type": "stream",
     "text": [
      "              precision    recall  f1-score   support\n",
      "\n",
      "           0       0.98      0.98      0.98      1886\n",
      "           1       0.97      0.97      0.97      1121\n",
      "\n",
      "    accuracy                           0.98      3007\n",
      "   macro avg       0.97      0.97      0.97      3007\n",
      "weighted avg       0.98      0.98      0.98      3007\n",
      "\n"
     ]
    }
   ],
   "source": [
    "print(classification_report(y_test, y_pred))"
   ]
  },
  {
   "cell_type": "code",
   "execution_count": 31,
   "metadata": {},
   "outputs": [
    {
     "data": {
      "image/png": "[encoded data removed]",
      "text/plain": [
       "<Figure size 432x288 with 2 Axes>"
      ]
     },
     "metadata": {
      "needs_background": "light"
     },
     "output_type": "display_data"
    }
   ],
   "source": [
    "ConfusionMatrixDisplay.from_predictions(y_test, y_pred)\n",
    "plt.grid(False)\n",
    "plt.show()"
   ]
  },
  {
   "cell_type": "markdown",
   "metadata": {},
   "source": [
    "# ***Random Forest***"
   ]
  },
  {
   "cell_type": "code",
   "execution_count": 32,
   "metadata": {},
   "outputs": [],
   "source": [
    "# Criando a Máquina Preditiva - Instanciando o Algoritmo de ML (Random Forest)\n",
    "clf_RF = RandomForestClassifier(n_estimators=1000)"
   ]
  },
  {
   "cell_type": "code",
   "execution_count": 33,
   "metadata": {},
   "outputs": [],
   "source": [
    "# Treinando o Algoritmo com os dados de treino\n",
    "clf_RF = clf_RF.fit(X_train, y_train)"
   ]
  },
  {
   "cell_type": "code",
   "execution_count": 34,
   "metadata": {},
   "outputs": [
    {
     "name": "stdout",
     "output_type": "stream",
     "text": [
      "Precisão dos dados de teste: 96.78%\n",
      "Acurácia: 97.50999999999999%\n"
     ]
    }
   ],
   "source": [
    "# Validando a Maquina Preditiva - Verificando o nível de Acurácia da Máquina Preditiva\n",
    "print('Precisão dos dados de teste: {}%'.format(round(precision_score(y_test, y_pred),4)*100))\n",
    "print('Acurácia: {}%'.format(round(accuracy_score(y_test, y_pred),4)*100))"
   ]
  },
  {
   "cell_type": "code",
   "execution_count": 35,
   "metadata": {},
   "outputs": [
    {
     "name": "stdout",
     "output_type": "stream",
     "text": [
      "              precision    recall  f1-score   support\n",
      "\n",
      "           0       0.98      0.98      0.98      1886\n",
      "           1       0.97      0.97      0.97      1121\n",
      "\n",
      "    accuracy                           0.98      3007\n",
      "   macro avg       0.97      0.97      0.97      3007\n",
      "weighted avg       0.98      0.98      0.98      3007\n",
      "\n"
     ]
    }
   ],
   "source": [
    "print(classification_report(y_test, y_pred))"
   ]
  },
  {
   "cell_type": "code",
   "execution_count": 36,
   "metadata": {},
   "outputs": [
    {
     "data": {
      "image/png": "[encoded data removed]",
      "text/plain": [
       "<Figure size 432x288 with 2 Axes>"
      ]
     },
     "metadata": {
      "needs_background": "light"
     },
     "output_type": "display_data"
    }
   ],
   "source": [
    "ConfusionMatrixDisplay.from_predictions(y_test, y_pred)\n",
    "plt.grid(False)\n",
    "plt.show()"
   ]
  },
  {
   "cell_type": "markdown",
   "metadata": {},
   "source": [
    "# ***KNN (K-Nearest Neighbors)***"
   ]
  },
  {
   "cell_type": "markdown",
   "metadata": {},
   "source": [
    "#### ***K = 3 e metric = minkowski***"
   ]
  },
  {
   "cell_type": "code",
   "execution_count": 37,
   "metadata": {},
   "outputs": [],
   "source": [
    "knn = KNeighborsClassifier(n_neighbors = 3).fit(X_train,y_train)\n",
    "# Predição dos dados\n",
    "y_pred = knn.predict(X_test)"
   ]
  },
  {
   "cell_type": "code",
   "execution_count": 38,
   "metadata": {},
   "outputs": [
    {
     "name": "stdout",
     "output_type": "stream",
     "text": [
      "Precisão dos dados de teste: 98.37%\n",
      "Acurácia: 98.34%\n"
     ]
    }
   ],
   "source": [
    "print('Precisão dos dados de teste: {}%'.format(round(precision_score(y_test, y_pred),4)*100))\n",
    "print('Acurácia: {}%'.format(round(accuracy_score(y_test, y_pred),4)*100))"
   ]
  },
  {
   "cell_type": "code",
   "execution_count": 39,
   "metadata": {},
   "outputs": [
    {
     "name": "stdout",
     "output_type": "stream",
     "text": [
      "              precision    recall  f1-score   support\n",
      "\n",
      "           0       0.98      0.99      0.99      1886\n",
      "           1       0.98      0.97      0.98      1121\n",
      "\n",
      "    accuracy                           0.98      3007\n",
      "   macro avg       0.98      0.98      0.98      3007\n",
      "weighted avg       0.98      0.98      0.98      3007\n",
      "\n"
     ]
    }
   ],
   "source": [
    "print(classification_report(y_test, y_pred))"
   ]
  },
  {
   "cell_type": "code",
   "execution_count": 40,
   "metadata": {},
   "outputs": [
    {
     "data": {
      "image/png": "[encoded data removed]",
      "text/plain": [
       "<Figure size 432x288 with 2 Axes>"
      ]
     },
     "metadata": {
      "needs_background": "light"
     },
     "output_type": "display_data"
    }
   ],
   "source": [
    "ConfusionMatrixDisplay.from_predictions(y_test, y_pred)\n",
    "plt.grid(False)\n",
    "plt.show()"
   ]
  },
  {
   "cell_type": "markdown",
   "metadata": {},
   "source": [
    "#### ***K = 10 e metric = minkowski***"
   ]
  },
  {
   "cell_type": "code",
   "execution_count": 41,
   "metadata": {},
   "outputs": [],
   "source": [
    "# Construir Modelo e Treinar Dados\n",
    "knn = KNeighborsClassifier(n_neighbors=10)\n",
    "knn.fit(X_train, y_train)\n",
    "# Aplicar Modelo aos Dados de Validação\n",
    "y_predict = knn.predict(X_test)"
   ]
  },
  {
   "cell_type": "code",
   "execution_count": 42,
   "metadata": {},
   "outputs": [
    {
     "name": "stdout",
     "output_type": "stream",
     "text": [
      "Precisão dos dados de teste: 98.37%\n",
      "Acurácia: 97.94%\n"
     ]
    }
   ],
   "source": [
    "print('Precisão dos dados de teste: {}%'.format(round(precision_score(y_test, y_pred),4)*100))\n",
    "print('Acurácia: {}%'.format(round(accuracy_score(y_test, y_predict),4)*100))"
   ]
  },
  {
   "cell_type": "code",
   "execution_count": 43,
   "metadata": {},
   "outputs": [
    {
     "name": "stdout",
     "output_type": "stream",
     "text": [
      "              precision    recall  f1-score   support\n",
      "\n",
      "           0       0.97      0.99      0.98      1886\n",
      "           1       0.99      0.96      0.97      1121\n",
      "\n",
      "    accuracy                           0.98      3007\n",
      "   macro avg       0.98      0.97      0.98      3007\n",
      "weighted avg       0.98      0.98      0.98      3007\n",
      "\n"
     ]
    }
   ],
   "source": [
    "print(classification_report(y_test, y_predict))"
   ]
  },
  {
   "cell_type": "code",
   "execution_count": 44,
   "metadata": {},
   "outputs": [
    {
     "data": {
      "image/png": "[encoded data removed]",
      "text/plain": [
       "<Figure size 432x288 with 2 Axes>"
      ]
     },
     "metadata": {
      "needs_background": "light"
     },
     "output_type": "display_data"
    }
   ],
   "source": [
    "ConfusionMatrixDisplay.from_predictions(y_test, y_pred)\n",
    "plt.grid(False)\n",
    "plt.show()"
   ]
  },
  {
   "cell_type": "markdown",
   "metadata": {},
   "source": [
    "#### ***K = 3 e metric = euclidean***"
   ]
  },
  {
   "cell_type": "code",
   "execution_count": 45,
   "metadata": {},
   "outputs": [
    {
     "name": "stdout",
     "output_type": "stream",
     "text": [
      "Precisão dos dados de teste: 98.89%\n",
      "Acurácia: 97.94%\n"
     ]
    }
   ],
   "source": [
    "knc = KNeighborsClassifier(n_neighbors=3, metric='euclidean')\n",
    "knc.fit(X_train, y_train)\n",
    "y_pred = knn.predict(X_test)\n",
    "print('Precisão dos dados de teste: {}%'.format(round(precision_score(y_test, y_pred),4)*100))\n",
    "print('Acurácia: {}%'.format(round(accuracy_score(y_test, y_pred),4)*100))"
   ]
  },
  {
   "cell_type": "code",
   "execution_count": 46,
   "metadata": {},
   "outputs": [
    {
     "name": "stdout",
     "output_type": "stream",
     "text": [
      "              precision    recall  f1-score   support\n",
      "\n",
      "           0       0.97      0.99      0.98      1886\n",
      "           1       0.99      0.96      0.97      1121\n",
      "\n",
      "    accuracy                           0.98      3007\n",
      "   macro avg       0.98      0.97      0.98      3007\n",
      "weighted avg       0.98      0.98      0.98      3007\n",
      "\n"
     ]
    }
   ],
   "source": [
    "print(classification_report(y_test, y_predict))"
   ]
  },
  {
   "cell_type": "code",
   "execution_count": 47,
   "metadata": {},
   "outputs": [
    {
     "data": {
      "image/png": "[encoded data removed]",
      "text/plain": [
       "<Figure size 432x288 with 2 Axes>"
      ]
     },
     "metadata": {
      "needs_background": "light"
     },
     "output_type": "display_data"
    }
   ],
   "source": [
    "ConfusionMatrixDisplay.from_predictions(y_test, y_pred)\n",
    "plt.grid(False)\n",
    "plt.show()"
   ]
  },
  {
   "cell_type": "markdown",
   "metadata": {},
   "source": [
    "#### ***K = 10 e metric = euclidean***"
   ]
  },
  {
   "cell_type": "code",
   "execution_count": 48,
   "metadata": {},
   "outputs": [
    {
     "name": "stdout",
     "output_type": "stream",
     "text": [
      "Precisão dos dados de teste: 98.89%\n",
      "Acurácia: 97.94%\n"
     ]
    }
   ],
   "source": [
    "knc = KNeighborsClassifier(n_neighbors=10, metric='euclidean')\n",
    "knc.fit(X_train, y_train)\n",
    "y_pred = knn.predict(X_test)\n",
    "print('Precisão dos dados de teste: {}%'.format(round(precision_score(y_test, y_pred),4)*100))\n",
    "print('Acurácia: {}%'.format(round(accuracy_score(y_test, y_pred),4)*100))"
   ]
  },
  {
   "cell_type": "code",
   "execution_count": 49,
   "metadata": {},
   "outputs": [
    {
     "name": "stdout",
     "output_type": "stream",
     "text": [
      "              precision    recall  f1-score   support\n",
      "\n",
      "           0       0.97      0.99      0.98      1886\n",
      "           1       0.99      0.96      0.97      1121\n",
      "\n",
      "    accuracy                           0.98      3007\n",
      "   macro avg       0.98      0.97      0.98      3007\n",
      "weighted avg       0.98      0.98      0.98      3007\n",
      "\n"
     ]
    }
   ],
   "source": [
    "print(classification_report(y_test, y_predict))"
   ]
  },
  {
   "cell_type": "code",
   "execution_count": 50,
   "metadata": {},
   "outputs": [
    {
     "data": {
      "image/png": "[encoded data removed]",
      "text/plain": [
       "<Figure size 432x288 with 2 Axes>"
      ]
     },
     "metadata": {
      "needs_background": "light"
     },
     "output_type": "display_data"
    }
   ],
   "source": [
    "ConfusionMatrixDisplay.from_predictions(y_test, y_pred)\n",
    "plt.grid(False)\n",
    "plt.show()"
   ]
  },
  {
   "cell_type": "markdown",
   "metadata": {},
   "source": [
    "# ***MLPClassifier (Multi-layer Perceptron)***"
   ]
  },
  {
   "cell_type": "code",
   "execution_count": 51,
   "metadata": {},
   "outputs": [],
   "source": [
    "clf = MLPClassifier().fit(X_train, y_train)\n",
    "y_pred = clf.predict(X_test)"
   ]
  },
  {
   "cell_type": "code",
   "execution_count": 52,
   "metadata": {},
   "outputs": [
    {
     "name": "stdout",
     "output_type": "stream",
     "text": [
      "Precisão dos dados de teste: 98.48%\n",
      "Acurácia: 98.8%\n"
     ]
    }
   ],
   "source": [
    "print('Precisão dos dados de teste: {}%'.format(round(precision_score(y_test, y_pred),4)*100))\n",
    "print('Acurácia: {}%'.format(round(accuracy_score(y_test, y_pred),4)*100))"
   ]
  },
  {
   "cell_type": "code",
   "execution_count": 53,
   "metadata": {},
   "outputs": [
    {
     "name": "stdout",
     "output_type": "stream",
     "text": [
      "              precision    recall  f1-score   support\n",
      "\n",
      "           0       0.97      0.99      0.98      1886\n",
      "           1       0.99      0.96      0.97      1121\n",
      "\n",
      "    accuracy                           0.98      3007\n",
      "   macro avg       0.98      0.97      0.98      3007\n",
      "weighted avg       0.98      0.98      0.98      3007\n",
      "\n"
     ]
    }
   ],
   "source": [
    "print(classification_report(y_test, y_predict))"
   ]
  },
  {
   "cell_type": "code",
   "execution_count": 54,
   "metadata": {},
   "outputs": [
    {
     "data": {
      "image/png": "[encoded data removed]",
      "text/plain": [
       "<Figure size 432x288 with 2 Axes>"
      ]
     },
     "metadata": {
      "needs_background": "light"
     },
     "output_type": "display_data"
    }
   ],
   "source": [
    "ConfusionMatrixDisplay.from_predictions(y_test, y_pred)\n",
    "plt.grid(False)\n",
    "plt.show()"
   ]
  },
  {
   "cell_type": "markdown",
   "metadata": {},
   "source": [
    "#### ***Alpha: 1 e hidden_layer_sizes diferentes: 10***"
   ]
  },
  {
   "cell_type": "code",
   "execution_count": 55,
   "metadata": {},
   "outputs": [],
   "source": [
    "clf = MLPClassifier(hidden_layer_sizes=10, alpha=1).fit(X_train, y_train)\n",
    "y_pred = clf.predict(X_test)"
   ]
  },
  {
   "cell_type": "code",
   "execution_count": 56,
   "metadata": {},
   "outputs": [
    {
     "name": "stdout",
     "output_type": "stream",
     "text": [
      "Precisão dos dados de teste: 97.27%\n",
      "Acurácia: 97.24000000000001%\n"
     ]
    }
   ],
   "source": [
    "print('Precisão dos dados de teste: {}%'.format(round(precision_score(y_test, y_pred),4)*100))\n",
    "print('Acurácia: {}%'.format(round(accuracy_score(y_test, y_pred),4)*100))"
   ]
  },
  {
   "cell_type": "code",
   "execution_count": 57,
   "metadata": {},
   "outputs": [
    {
     "name": "stdout",
     "output_type": "stream",
     "text": [
      "              precision    recall  f1-score   support\n",
      "\n",
      "           0       0.97      0.99      0.98      1886\n",
      "           1       0.99      0.96      0.97      1121\n",
      "\n",
      "    accuracy                           0.98      3007\n",
      "   macro avg       0.98      0.97      0.98      3007\n",
      "weighted avg       0.98      0.98      0.98      3007\n",
      "\n"
     ]
    }
   ],
   "source": [
    "print(classification_report(y_test, y_predict))"
   ]
  },
  {
   "cell_type": "code",
   "execution_count": 58,
   "metadata": {},
   "outputs": [
    {
     "data": {
      "image/png": "[encoded data removed]",
      "text/plain": [
       "<Figure size 432x288 with 2 Axes>"
      ]
     },
     "metadata": {
      "needs_background": "light"
     },
     "output_type": "display_data"
    }
   ],
   "source": [
    "ConfusionMatrixDisplay.from_predictions(y_test, y_pred)\n",
    "plt.grid(False)\n",
    "plt.show()"
   ]
  },
  {
   "cell_type": "markdown",
   "metadata": {},
   "source": [
    "# ***SVM (Support Vector Machines)***"
   ]
  },
  {
   "cell_type": "code",
   "execution_count": 59,
   "metadata": {},
   "outputs": [],
   "source": [
    "# Cria o modelo\n",
    "modelo_v1 = svm.SVC(kernel = 'linear')\n",
    "modelo_v1.fit(X_train, y_train)\n",
    "# Previsões\n",
    "previsoes_v1 = modelo_v1.predict(X_test)"
   ]
  },
  {
   "cell_type": "code",
   "execution_count": 60,
   "metadata": {},
   "outputs": [
    {
     "name": "stdout",
     "output_type": "stream",
     "text": [
      "Precisão dos dados de teste: 97.27%\n",
      "Acurácia: 97.84%\n"
     ]
    }
   ],
   "source": [
    "print('Precisão dos dados de teste: {}%'.format(round(precision_score(y_test, y_pred),4)*100))\n",
    "print('Acurácia: {}%'.format(round(accuracy_score(y_test, previsoes_v1),4)*100))"
   ]
  },
  {
   "cell_type": "code",
   "execution_count": 61,
   "metadata": {},
   "outputs": [
    {
     "name": "stdout",
     "output_type": "stream",
     "text": [
      "              precision    recall  f1-score   support\n",
      "\n",
      "           0       0.98      0.98      0.98      1886\n",
      "           1       0.97      0.97      0.97      1121\n",
      "\n",
      "    accuracy                           0.98      3007\n",
      "   macro avg       0.98      0.98      0.98      3007\n",
      "weighted avg       0.98      0.98      0.98      3007\n",
      "\n"
     ]
    }
   ],
   "source": [
    "print(classification_report(y_test, previsoes_v1))"
   ]
  },
  {
   "cell_type": "code",
   "execution_count": 62,
   "metadata": {
    "scrolled": true
   },
   "outputs": [
    {
     "data": {
      "image/png": "[encoded data removed]",
      "text/plain": [
       "<Figure size 432x288 with 2 Axes>"
      ]
     },
     "metadata": {
      "needs_background": "light"
     },
     "output_type": "display_data"
    }
   ],
   "source": [
    "ConfusionMatrixDisplay.from_predictions(y_test, y_pred)\n",
    "plt.grid(False)\n",
    "plt.show()"
   ]
  },
  {
   "cell_type": "markdown",
   "metadata": {},
   "source": [
    "# ***Decision Trees***"
   ]
  },
  {
   "cell_type": "markdown",
   "metadata": {},
   "source": [
    "#### ***Criterion: gini***"
   ]
  },
  {
   "cell_type": "code",
   "execution_count": 63,
   "metadata": {},
   "outputs": [],
   "source": [
    "model_1 = tree.DecisionTreeClassifier(max_depth=5, criterion='gini').fit(X_train, y_train) # Gini\n",
    "y_pred = model_1.predict(X_test)"
   ]
  },
  {
   "cell_type": "code",
   "execution_count": 64,
   "metadata": {},
   "outputs": [
    {
     "name": "stdout",
     "output_type": "stream",
     "text": [
      "Precisão dos dados de teste: 91.42%\n",
      "Acurácia: 93.85%\n"
     ]
    }
   ],
   "source": [
    "print('Precisão dos dados de teste: {}%'.format(round(precision_score(y_test, y_pred),4)*100))\n",
    "print('Acurácia: {}%'.format(round(accuracy_score(y_test, y_pred),4)*100))"
   ]
  },
  {
   "cell_type": "code",
   "execution_count": 65,
   "metadata": {},
   "outputs": [
    {
     "name": "stdout",
     "output_type": "stream",
     "text": [
      "              precision    recall  f1-score   support\n",
      "\n",
      "           0       0.95      0.95      0.95      1886\n",
      "           1       0.91      0.92      0.92      1121\n",
      "\n",
      "    accuracy                           0.94      3007\n",
      "   macro avg       0.93      0.94      0.93      3007\n",
      "weighted avg       0.94      0.94      0.94      3007\n",
      "\n"
     ]
    }
   ],
   "source": [
    "print(classification_report(y_test, y_pred))"
   ]
  },
  {
   "cell_type": "code",
   "execution_count": 66,
   "metadata": {},
   "outputs": [
    {
     "data": {
      "image/png": "[encoded data removed]",
      "text/plain": [
       "<Figure size 432x288 with 2 Axes>"
      ]
     },
     "metadata": {
      "needs_background": "light"
     },
     "output_type": "display_data"
    }
   ],
   "source": [
    "ConfusionMatrixDisplay.from_predictions(y_test, y_pred)\n",
    "plt.grid(False)\n",
    "plt.show()"
   ]
  },
  {
   "cell_type": "code",
   "execution_count": 67,
   "metadata": {},
   "outputs": [
    {
     "data": {
      "image/png": "[encoded data removed]",
      "text/plain": [
       "<Figure size 432x288 with 1 Axes>"
      ]
     },
     "metadata": {
      "needs_background": "light"
     },
     "output_type": "display_data"
    }
   ],
   "source": [
    "tree.plot_tree(model_1)\n",
    "plt.show()"
   ]
  },
  {
   "cell_type": "markdown",
   "metadata": {},
   "source": [
    "#### ***Criterion: entropy***"
   ]
  },
  {
   "cell_type": "code",
   "execution_count": 68,
   "metadata": {},
   "outputs": [],
   "source": [
    "model_2 = tree.DecisionTreeClassifier(max_depth=5, criterion='entropy').fit(X_train, y_train)# Entropy\n",
    "y_pred = model_2.predict(X_test)"
   ]
  },
  {
   "cell_type": "code",
   "execution_count": 69,
   "metadata": {},
   "outputs": [
    {
     "name": "stdout",
     "output_type": "stream",
     "text": [
      "Precisão dos dados de teste: 88.41%\n",
      "Acurácia: 92.67999999999999%\n"
     ]
    }
   ],
   "source": [
    "print('Precisão dos dados de teste: {}%'.format(round(precision_score(y_test, y_pred),4)*100))\n",
    "print('Acurácia: {}%'.format(round(accuracy_score(y_test, y_pred),4)*100))"
   ]
  },
  {
   "cell_type": "code",
   "execution_count": 70,
   "metadata": {},
   "outputs": [
    {
     "name": "stdout",
     "output_type": "stream",
     "text": [
      "              precision    recall  f1-score   support\n",
      "\n",
      "           0       0.95      0.93      0.94      1886\n",
      "           1       0.88      0.93      0.90      1121\n",
      "\n",
      "    accuracy                           0.93      3007\n",
      "   macro avg       0.92      0.93      0.92      3007\n",
      "weighted avg       0.93      0.93      0.93      3007\n",
      "\n"
     ]
    }
   ],
   "source": [
    "print(classification_report(y_test, y_pred))"
   ]
  },
  {
   "cell_type": "code",
   "execution_count": 71,
   "metadata": {
    "scrolled": true
   },
   "outputs": [
    {
     "data": {
      "image/png": "[encoded data removed]",
      "text/plain": [
       "<Figure size 432x288 with 2 Axes>"
      ]
     },
     "metadata": {
      "needs_background": "light"
     },
     "output_type": "display_data"
    }
   ],
   "source": [
    "ConfusionMatrixDisplay.from_predictions(y_test, y_pred)\n",
    "plt.grid(False)\n",
    "plt.show()"
   ]
  },
  {
   "cell_type": "code",
   "execution_count": 72,
   "metadata": {},
   "outputs": [
    {
     "data": {
      "image/png": "[encoded data removed]",
      "text/plain": [
       "<Figure size 432x288 with 1 Axes>"
      ]
     },
     "metadata": {
      "needs_background": "light"
     },
     "output_type": "display_data"
    }
   ],
   "source": [
    "tree.plot_tree(model_2)\n",
    "plt.show()"
   ]
  },
  {
   "cell_type": "code",
   "execution_count": null,
   "metadata": {},
   "outputs": [],
   "source": []
  }
 ],
 "metadata": {
  "colab": {
   "collapsed_sections": [
    "sVpL9zxO-wZe",
    "8_cuPz5t-1v7",
    "Gk95-xuyASS7",
    "7M5iRdRrWLHp"
   ],
   "name": "Efeitos Colaterais de Vacinas.ipynb",
   "provenance": []
  },
  "kernelspec": {
   "display_name": "Python 3 (ipykernel)",
   "language": "python",
   "name": "python3"
  },
  "language_info": {
   "codemirror_mode": {
    "name": "ipython",
    "version": 3
   },
   "file_extension": ".py",
   "mimetype": "text/x-python",
   "name": "python",
   "nbconvert_exporter": "python",
   "pygments_lexer": "ipython3",
   "version": "3.9.12"
  }
 },
 "nbformat": 4,
 "nbformat_minor": 4
}
